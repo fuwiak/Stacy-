{
 "cells": [
  {
   "cell_type": "code",
   "execution_count": 47,
   "metadata": {
    "collapsed": true
   },
   "outputs": [],
   "source": [
    "import pandas as pd\n",
    "import numpy as np\n",
    "import matplotlib.pyplot as plt\n",
    "import seaborn as sns\n",
    "import os\n"
   ]
  },
  {
   "cell_type": "code",
   "execution_count": 48,
   "outputs": [
    {
     "data": {
      "text/plain": "['leads.csv', 'rates_land.csv', 'rates_sea.csv', 'rates_air.csv']"
     },
     "execution_count": 48,
     "metadata": {},
     "output_type": "execute_result"
    }
   ],
   "source": [
    "#list names of all files\n",
    "os.listdir('data')\n"
   ],
   "metadata": {
    "collapsed": false
   }
  },
  {
   "cell_type": "code",
   "execution_count": 49,
   "outputs": [],
   "source": [
    "#read the data\n",
    "list_of_files = os.listdir('data')\n",
    "leads, air, land, sea = [pd.read_csv('data/' + file) for file in list_of_files]"
   ],
   "metadata": {
    "collapsed": false
   }
  },
  {
   "cell_type": "code",
   "execution_count": 50,
   "outputs": [
    {
     "data": {
      "text/plain": "      request_id request_date valid_date_from valid_date_to  weight  \\\n0         855641   2023-09-05      2023-09-16    2023-09-23   26.63   \n1         855652   2023-09-05      2023-09-30    2023-10-07   28.00   \n2         855664   2023-09-05      2023-09-05    2023-09-12  200.00   \n3         855689   2023-09-05      2023-09-30    2023-10-07   26.00   \n4         855725   2023-09-05      2023-09-20    2023-09-27  250.00   \n...          ...          ...             ...           ...     ...   \n9893      941678   2024-03-05      2024-06-09    2024-06-16   30.00   \n9894      941682   2024-03-05      2024-03-05    2024-03-12   28.23   \n9895      941683   2024-03-05      2024-06-09    2024-06-09  310.00   \n9896      941687   2024-03-05      2024-04-06    2024-04-13   28.00   \n9897      941690   2024-03-05      2024-04-05    2024-04-12   10.00   \n\n     weight_unit  amount    container_type shipping_type hs_code  ...  \\\n0     Metric Ton     1.0  40' Refrigerated           FCL   06-14  ...   \n1     Metric Ton     1.0      20' Standard           FCL   25-27  ...   \n2     Metric Ton     1.0      20' Standard           FCL     NaN  ...   \n3     Metric Ton    20.0      40' Standard           FCL    0910  ...   \n4     Metric Ton     NaN               NaN           LCL    8711  ...   \n...          ...     ...               ...           ...     ...  ...   \n9893    Kilogram     NaN               NaN           LCL     NaN  ...   \n9894  Metric Ton     1.0      20' Standard           FCL   94-96  ...   \n9895    Kilogram     NaN               NaN           LCL     NaN  ...   \n9896  Metric Ton     1.0      20' Standard           FCL   50-63  ...   \n9897  Metric Ton     1.0      40' Standard           FCL   84-85  ...   \n\n      liquid_cargo  imo_code  city_from_country  \\\n0            False       NaN                NaN   \n1            False       NaN                NaN   \n2            False       NaN                NaN   \n3            False       NaN                NaN   \n4            False       NaN                NaN   \n...            ...       ...                ...   \n9893         False       NaN                 IT   \n9894         False       NaN                NaN   \n9895         False       NaN                 IT   \n9896         False       NaN                 ZA   \n9897         False       NaN                 CN   \n\n                                              city_from  port_from_country  \\\n0                                                   NaN                 ID   \n1                                                   NaN                 BR   \n2                                                   NaN                 CN   \n3                                                   NaN                 NG   \n4                                                   NaN                 IN   \n...                                                 ...                ...   \n9893                    Padua, Province of Padua, Italy                 IT   \n9894                                                NaN                 BR   \n9895                    Padua, Province of Padua, Italy                 IT   \n9896  Cape Town City Centre, Cape Town, 8000, South ...                 ZA   \n9897                                     Tianjin, China                 CN   \n\n            port_from port_to_country            port_to city_to_country  \\\n0             Jakarta              BD         Chittagong             NaN   \n1             Vitoria              US            Houston              US   \n2             Chengdu              DO            Caucedo              DO   \n3               Apapa              AE          Jebel Ali              AE   \n4             Chennai              DE  FRANKFURT AM MAIN              DE   \n...               ...             ...                ...             ...   \n9893           Venice              CA            Toronto              CA   \n9894  Rio De Jan Eiro              SG          Singapore             NaN   \n9895           Venice              CA            Toronto              CA   \n9896        Cape Town              US         Charleston             NaN   \n9897          Tianjin              CO       Buenaventura             NaN   \n\n                                            city_to  \n0                                               NaN  \n1                                  Houston, TX, USA  \n2                                Dominican Republic  \n3     Mina Jebel Ali - Dubai - United Arab Emirates  \n4                                Frankfurt, Germany  \n...                                             ...  \n9893                            Toronto, ON, Canada  \n9894                                            NaN  \n9895                            Toronto, ON, Canada  \n9896                                            NaN  \n9897                                            NaN  \n\n[9898 rows x 23 columns]",
      "text/html": "<div>\n<style scoped>\n    .dataframe tbody tr th:only-of-type {\n        vertical-align: middle;\n    }\n\n    .dataframe tbody tr th {\n        vertical-align: top;\n    }\n\n    .dataframe thead th {\n        text-align: right;\n    }\n</style>\n<table border=\"1\" class=\"dataframe\">\n  <thead>\n    <tr style=\"text-align: right;\">\n      <th></th>\n      <th>request_id</th>\n      <th>request_date</th>\n      <th>valid_date_from</th>\n      <th>valid_date_to</th>\n      <th>weight</th>\n      <th>weight_unit</th>\n      <th>amount</th>\n      <th>container_type</th>\n      <th>shipping_type</th>\n      <th>hs_code</th>\n      <th>...</th>\n      <th>liquid_cargo</th>\n      <th>imo_code</th>\n      <th>city_from_country</th>\n      <th>city_from</th>\n      <th>port_from_country</th>\n      <th>port_from</th>\n      <th>port_to_country</th>\n      <th>port_to</th>\n      <th>city_to_country</th>\n      <th>city_to</th>\n    </tr>\n  </thead>\n  <tbody>\n    <tr>\n      <th>0</th>\n      <td>855641</td>\n      <td>2023-09-05</td>\n      <td>2023-09-16</td>\n      <td>2023-09-23</td>\n      <td>26.63</td>\n      <td>Metric Ton</td>\n      <td>1.0</td>\n      <td>40' Refrigerated</td>\n      <td>FCL</td>\n      <td>06-14</td>\n      <td>...</td>\n      <td>False</td>\n      <td>NaN</td>\n      <td>NaN</td>\n      <td>NaN</td>\n      <td>ID</td>\n      <td>Jakarta</td>\n      <td>BD</td>\n      <td>Chittagong</td>\n      <td>NaN</td>\n      <td>NaN</td>\n    </tr>\n    <tr>\n      <th>1</th>\n      <td>855652</td>\n      <td>2023-09-05</td>\n      <td>2023-09-30</td>\n      <td>2023-10-07</td>\n      <td>28.00</td>\n      <td>Metric Ton</td>\n      <td>1.0</td>\n      <td>20' Standard</td>\n      <td>FCL</td>\n      <td>25-27</td>\n      <td>...</td>\n      <td>False</td>\n      <td>NaN</td>\n      <td>NaN</td>\n      <td>NaN</td>\n      <td>BR</td>\n      <td>Vitoria</td>\n      <td>US</td>\n      <td>Houston</td>\n      <td>US</td>\n      <td>Houston, TX, USA</td>\n    </tr>\n    <tr>\n      <th>2</th>\n      <td>855664</td>\n      <td>2023-09-05</td>\n      <td>2023-09-05</td>\n      <td>2023-09-12</td>\n      <td>200.00</td>\n      <td>Metric Ton</td>\n      <td>1.0</td>\n      <td>20' Standard</td>\n      <td>FCL</td>\n      <td>NaN</td>\n      <td>...</td>\n      <td>False</td>\n      <td>NaN</td>\n      <td>NaN</td>\n      <td>NaN</td>\n      <td>CN</td>\n      <td>Chengdu</td>\n      <td>DO</td>\n      <td>Caucedo</td>\n      <td>DO</td>\n      <td>Dominican Republic</td>\n    </tr>\n    <tr>\n      <th>3</th>\n      <td>855689</td>\n      <td>2023-09-05</td>\n      <td>2023-09-30</td>\n      <td>2023-10-07</td>\n      <td>26.00</td>\n      <td>Metric Ton</td>\n      <td>20.0</td>\n      <td>40' Standard</td>\n      <td>FCL</td>\n      <td>0910</td>\n      <td>...</td>\n      <td>False</td>\n      <td>NaN</td>\n      <td>NaN</td>\n      <td>NaN</td>\n      <td>NG</td>\n      <td>Apapa</td>\n      <td>AE</td>\n      <td>Jebel Ali</td>\n      <td>AE</td>\n      <td>Mina Jebel Ali - Dubai - United Arab Emirates</td>\n    </tr>\n    <tr>\n      <th>4</th>\n      <td>855725</td>\n      <td>2023-09-05</td>\n      <td>2023-09-20</td>\n      <td>2023-09-27</td>\n      <td>250.00</td>\n      <td>Metric Ton</td>\n      <td>NaN</td>\n      <td>NaN</td>\n      <td>LCL</td>\n      <td>8711</td>\n      <td>...</td>\n      <td>False</td>\n      <td>NaN</td>\n      <td>NaN</td>\n      <td>NaN</td>\n      <td>IN</td>\n      <td>Chennai</td>\n      <td>DE</td>\n      <td>FRANKFURT AM MAIN</td>\n      <td>DE</td>\n      <td>Frankfurt, Germany</td>\n    </tr>\n    <tr>\n      <th>...</th>\n      <td>...</td>\n      <td>...</td>\n      <td>...</td>\n      <td>...</td>\n      <td>...</td>\n      <td>...</td>\n      <td>...</td>\n      <td>...</td>\n      <td>...</td>\n      <td>...</td>\n      <td>...</td>\n      <td>...</td>\n      <td>...</td>\n      <td>...</td>\n      <td>...</td>\n      <td>...</td>\n      <td>...</td>\n      <td>...</td>\n      <td>...</td>\n      <td>...</td>\n      <td>...</td>\n    </tr>\n    <tr>\n      <th>9893</th>\n      <td>941678</td>\n      <td>2024-03-05</td>\n      <td>2024-06-09</td>\n      <td>2024-06-16</td>\n      <td>30.00</td>\n      <td>Kilogram</td>\n      <td>NaN</td>\n      <td>NaN</td>\n      <td>LCL</td>\n      <td>NaN</td>\n      <td>...</td>\n      <td>False</td>\n      <td>NaN</td>\n      <td>IT</td>\n      <td>Padua, Province of Padua, Italy</td>\n      <td>IT</td>\n      <td>Venice</td>\n      <td>CA</td>\n      <td>Toronto</td>\n      <td>CA</td>\n      <td>Toronto, ON, Canada</td>\n    </tr>\n    <tr>\n      <th>9894</th>\n      <td>941682</td>\n      <td>2024-03-05</td>\n      <td>2024-03-05</td>\n      <td>2024-03-12</td>\n      <td>28.23</td>\n      <td>Metric Ton</td>\n      <td>1.0</td>\n      <td>20' Standard</td>\n      <td>FCL</td>\n      <td>94-96</td>\n      <td>...</td>\n      <td>False</td>\n      <td>NaN</td>\n      <td>NaN</td>\n      <td>NaN</td>\n      <td>BR</td>\n      <td>Rio De Jan Eiro</td>\n      <td>SG</td>\n      <td>Singapore</td>\n      <td>NaN</td>\n      <td>NaN</td>\n    </tr>\n    <tr>\n      <th>9895</th>\n      <td>941683</td>\n      <td>2024-03-05</td>\n      <td>2024-06-09</td>\n      <td>2024-06-09</td>\n      <td>310.00</td>\n      <td>Kilogram</td>\n      <td>NaN</td>\n      <td>NaN</td>\n      <td>LCL</td>\n      <td>NaN</td>\n      <td>...</td>\n      <td>False</td>\n      <td>NaN</td>\n      <td>IT</td>\n      <td>Padua, Province of Padua, Italy</td>\n      <td>IT</td>\n      <td>Venice</td>\n      <td>CA</td>\n      <td>Toronto</td>\n      <td>CA</td>\n      <td>Toronto, ON, Canada</td>\n    </tr>\n    <tr>\n      <th>9896</th>\n      <td>941687</td>\n      <td>2024-03-05</td>\n      <td>2024-04-06</td>\n      <td>2024-04-13</td>\n      <td>28.00</td>\n      <td>Metric Ton</td>\n      <td>1.0</td>\n      <td>20' Standard</td>\n      <td>FCL</td>\n      <td>50-63</td>\n      <td>...</td>\n      <td>False</td>\n      <td>NaN</td>\n      <td>ZA</td>\n      <td>Cape Town City Centre, Cape Town, 8000, South ...</td>\n      <td>ZA</td>\n      <td>Cape Town</td>\n      <td>US</td>\n      <td>Charleston</td>\n      <td>NaN</td>\n      <td>NaN</td>\n    </tr>\n    <tr>\n      <th>9897</th>\n      <td>941690</td>\n      <td>2024-03-05</td>\n      <td>2024-04-05</td>\n      <td>2024-04-12</td>\n      <td>10.00</td>\n      <td>Metric Ton</td>\n      <td>1.0</td>\n      <td>40' Standard</td>\n      <td>FCL</td>\n      <td>84-85</td>\n      <td>...</td>\n      <td>False</td>\n      <td>NaN</td>\n      <td>CN</td>\n      <td>Tianjin, China</td>\n      <td>CN</td>\n      <td>Tianjin</td>\n      <td>CO</td>\n      <td>Buenaventura</td>\n      <td>NaN</td>\n      <td>NaN</td>\n    </tr>\n  </tbody>\n</table>\n<p>9898 rows × 23 columns</p>\n</div>"
     },
     "execution_count": 50,
     "metadata": {},
     "output_type": "execute_result"
    }
   ],
   "source": [
    "leads\n"
   ],
   "metadata": {
    "collapsed": false
   }
  },
  {
   "cell_type": "code",
   "execution_count": 51,
   "outputs": [
    {
     "data": {
      "text/plain": "    create_date  valid_from    valid_to  estimated_days origin_country  \\\n0    2024-02-11  2024-02-01  2024-12-31             6.0             ZW   \n1    2024-02-11  2024-02-01  2024-12-31             6.0             ZW   \n2    2024-02-11  2024-01-01  2024-12-31             5.0             MZ   \n3    2024-02-11  2024-01-01  2024-12-31             5.0             MZ   \n4    2024-02-11  2024-01-01  2024-12-31             5.0             ZW   \n..          ...         ...         ...             ...            ...   \n995  2023-10-09  2023-10-10  2023-10-11             NaN             US   \n996  2023-10-09  2023-11-24  2023-11-28             NaN             GB   \n997  2023-10-09  2023-10-10  2023-10-12             NaN             US   \n998  2023-10-09  2023-11-29  2023-12-01             NaN             GB   \n999  2023-10-09  2023-10-10  2023-10-12             NaN             US   \n\n                                           origin_name destination_country  \\\n0                                     Harare, Zimbabwe                  MZ   \n1                                     Harare, Zimbabwe                  MZ   \n2                                    Beira, Mozambique                  ZW   \n3                                    Beira, Mozambique                  ZW   \n4                                     Harare, Zimbabwe                  MZ   \n..                                                 ...                 ...   \n995                               Los Angeles, CA, USA                  US   \n996  Victoria Embankment Gardens, Villiers St, Lond...                  GB   \n997                               Los Angeles, CA, USA                  US   \n998  Victoria Embankment Gardens, Villiers St, Lond...                  GB   \n999                               Los Angeles, CA, USA                  US   \n\n                                  destination_name shipping_type  \\\n0                               Maputo, Mozambique      RAIL_FCL   \n1                               Maputo, Mozambique      RAIL_FCL   \n2                                 Harare, Zimbabwe      RAIL_FCL   \n3                                 Harare, Zimbabwe      RAIL_FCL   \n4                                Beira, Mozambique      RAIL_FCL   \n..                                             ...           ...   \n995  Via Cabrillo-Marina, San Pedro, CA 90731, USA           LTL   \n996                                   Cheshire, UK           LTL   \n997  Via Cabrillo-Marina, San Pedro, CA 90731, USA           LTL   \n998                                   Cheshire, UK           LTL   \n999  Via Cabrillo-Marina, San Pedro, CA 90731, USA           LTL   \n\n        load_type  load_amount  price_usd  \n0    40' Standard            1    2430.00  \n1    20' Standard            1    1850.00  \n2    40' Standard            1    1850.00  \n3    20' Standard            1    1180.00  \n4    20' Standard            1    1180.00  \n..            ...          ...        ...  \n995            mt            1     293.79  \n996            mt            1     118.70  \n997            mt            1     135.94  \n998            mt            1     118.70  \n999            mt            1     130.36  \n\n[1000 rows x 12 columns]",
      "text/html": "<div>\n<style scoped>\n    .dataframe tbody tr th:only-of-type {\n        vertical-align: middle;\n    }\n\n    .dataframe tbody tr th {\n        vertical-align: top;\n    }\n\n    .dataframe thead th {\n        text-align: right;\n    }\n</style>\n<table border=\"1\" class=\"dataframe\">\n  <thead>\n    <tr style=\"text-align: right;\">\n      <th></th>\n      <th>create_date</th>\n      <th>valid_from</th>\n      <th>valid_to</th>\n      <th>estimated_days</th>\n      <th>origin_country</th>\n      <th>origin_name</th>\n      <th>destination_country</th>\n      <th>destination_name</th>\n      <th>shipping_type</th>\n      <th>load_type</th>\n      <th>load_amount</th>\n      <th>price_usd</th>\n    </tr>\n  </thead>\n  <tbody>\n    <tr>\n      <th>0</th>\n      <td>2024-02-11</td>\n      <td>2024-02-01</td>\n      <td>2024-12-31</td>\n      <td>6.0</td>\n      <td>ZW</td>\n      <td>Harare, Zimbabwe</td>\n      <td>MZ</td>\n      <td>Maputo, Mozambique</td>\n      <td>RAIL_FCL</td>\n      <td>40' Standard</td>\n      <td>1</td>\n      <td>2430.00</td>\n    </tr>\n    <tr>\n      <th>1</th>\n      <td>2024-02-11</td>\n      <td>2024-02-01</td>\n      <td>2024-12-31</td>\n      <td>6.0</td>\n      <td>ZW</td>\n      <td>Harare, Zimbabwe</td>\n      <td>MZ</td>\n      <td>Maputo, Mozambique</td>\n      <td>RAIL_FCL</td>\n      <td>20' Standard</td>\n      <td>1</td>\n      <td>1850.00</td>\n    </tr>\n    <tr>\n      <th>2</th>\n      <td>2024-02-11</td>\n      <td>2024-01-01</td>\n      <td>2024-12-31</td>\n      <td>5.0</td>\n      <td>MZ</td>\n      <td>Beira, Mozambique</td>\n      <td>ZW</td>\n      <td>Harare, Zimbabwe</td>\n      <td>RAIL_FCL</td>\n      <td>40' Standard</td>\n      <td>1</td>\n      <td>1850.00</td>\n    </tr>\n    <tr>\n      <th>3</th>\n      <td>2024-02-11</td>\n      <td>2024-01-01</td>\n      <td>2024-12-31</td>\n      <td>5.0</td>\n      <td>MZ</td>\n      <td>Beira, Mozambique</td>\n      <td>ZW</td>\n      <td>Harare, Zimbabwe</td>\n      <td>RAIL_FCL</td>\n      <td>20' Standard</td>\n      <td>1</td>\n      <td>1180.00</td>\n    </tr>\n    <tr>\n      <th>4</th>\n      <td>2024-02-11</td>\n      <td>2024-01-01</td>\n      <td>2024-12-31</td>\n      <td>5.0</td>\n      <td>ZW</td>\n      <td>Harare, Zimbabwe</td>\n      <td>MZ</td>\n      <td>Beira, Mozambique</td>\n      <td>RAIL_FCL</td>\n      <td>20' Standard</td>\n      <td>1</td>\n      <td>1180.00</td>\n    </tr>\n    <tr>\n      <th>...</th>\n      <td>...</td>\n      <td>...</td>\n      <td>...</td>\n      <td>...</td>\n      <td>...</td>\n      <td>...</td>\n      <td>...</td>\n      <td>...</td>\n      <td>...</td>\n      <td>...</td>\n      <td>...</td>\n      <td>...</td>\n    </tr>\n    <tr>\n      <th>995</th>\n      <td>2023-10-09</td>\n      <td>2023-10-10</td>\n      <td>2023-10-11</td>\n      <td>NaN</td>\n      <td>US</td>\n      <td>Los Angeles, CA, USA</td>\n      <td>US</td>\n      <td>Via Cabrillo-Marina, San Pedro, CA 90731, USA</td>\n      <td>LTL</td>\n      <td>mt</td>\n      <td>1</td>\n      <td>293.79</td>\n    </tr>\n    <tr>\n      <th>996</th>\n      <td>2023-10-09</td>\n      <td>2023-11-24</td>\n      <td>2023-11-28</td>\n      <td>NaN</td>\n      <td>GB</td>\n      <td>Victoria Embankment Gardens, Villiers St, Lond...</td>\n      <td>GB</td>\n      <td>Cheshire, UK</td>\n      <td>LTL</td>\n      <td>mt</td>\n      <td>1</td>\n      <td>118.70</td>\n    </tr>\n    <tr>\n      <th>997</th>\n      <td>2023-10-09</td>\n      <td>2023-10-10</td>\n      <td>2023-10-12</td>\n      <td>NaN</td>\n      <td>US</td>\n      <td>Los Angeles, CA, USA</td>\n      <td>US</td>\n      <td>Via Cabrillo-Marina, San Pedro, CA 90731, USA</td>\n      <td>LTL</td>\n      <td>mt</td>\n      <td>1</td>\n      <td>135.94</td>\n    </tr>\n    <tr>\n      <th>998</th>\n      <td>2023-10-09</td>\n      <td>2023-11-29</td>\n      <td>2023-12-01</td>\n      <td>NaN</td>\n      <td>GB</td>\n      <td>Victoria Embankment Gardens, Villiers St, Lond...</td>\n      <td>GB</td>\n      <td>Cheshire, UK</td>\n      <td>LTL</td>\n      <td>mt</td>\n      <td>1</td>\n      <td>118.70</td>\n    </tr>\n    <tr>\n      <th>999</th>\n      <td>2023-10-09</td>\n      <td>2023-10-10</td>\n      <td>2023-10-12</td>\n      <td>NaN</td>\n      <td>US</td>\n      <td>Los Angeles, CA, USA</td>\n      <td>US</td>\n      <td>Via Cabrillo-Marina, San Pedro, CA 90731, USA</td>\n      <td>LTL</td>\n      <td>mt</td>\n      <td>1</td>\n      <td>130.36</td>\n    </tr>\n  </tbody>\n</table>\n<p>1000 rows × 12 columns</p>\n</div>"
     },
     "execution_count": 51,
     "metadata": {},
     "output_type": "execute_result"
    }
   ],
   "source": [
    "air\n"
   ],
   "metadata": {
    "collapsed": false
   }
  },
  {
   "cell_type": "code",
   "execution_count": 52,
   "outputs": [
    {
     "data": {
      "text/plain": "   request_id request_date valid_date_from valid_date_to  weight weight_unit  \\\n0      867146   2023-09-29      2023-10-01    2023-10-08   25.00  Metric Ton   \n1      881615   2023-11-01      2023-11-30    2023-12-07   24.00  Metric Ton   \n2      903961   2024-01-02      2024-01-10    2024-01-17   10.00  Metric Ton   \n3      916430   2024-01-24      2024-01-31    2024-02-07   10.46  Metric Ton   \n4      916434   2024-01-24      2024-02-21    2024-02-28   10.46  Metric Ton   \n\n   amount container_type shipping_type_x hs_code  ...  \\\n0     1.0   40' Standard             FCL   94-96  ...   \n1     1.0   40' Standard             FCL  392062  ...   \n2     1.0   40' Standard             FCL  761699  ...   \n3     1.0   40' Standard             FCL     NaN  ...   \n4     1.0   40' Standard             FCL     NaN  ...   \n\n                           city_to  create_date  valid_from    valid_to  \\\n0                              NaN   2023-11-28  2023-11-28  2023-12-31   \n1                              NaN   2023-11-28  2023-11-28  2023-12-31   \n2  43460 Alcover, Tarragona, Spain   2023-11-28  2023-11-28  2023-12-31   \n3                  Valencia, Spain   2023-11-28  2023-11-28  2023-12-31   \n4                  Valencia, Spain   2023-11-28  2023-11-28  2023-12-31   \n\n   estimated_days          origin_name destination_name shipping_type_y  \\\n0             NaN  Wuhan, Hubei, China    Madrid, Spain        RAIL_FCL   \n1             NaN  Wuhan, Hubei, China    Madrid, Spain        RAIL_FCL   \n2             NaN  Wuhan, Hubei, China    Madrid, Spain        RAIL_FCL   \n3             NaN  Wuhan, Hubei, China    Madrid, Spain        RAIL_FCL   \n4             NaN  Wuhan, Hubei, China    Madrid, Spain        RAIL_FCL   \n\n  load_amount price_usd  \n0           1    9900.0  \n1           1    9900.0  \n2           1    9900.0  \n3           1    9900.0  \n4           1    9900.0  \n\n[5 rows x 32 columns]",
      "text/html": "<div>\n<style scoped>\n    .dataframe tbody tr th:only-of-type {\n        vertical-align: middle;\n    }\n\n    .dataframe tbody tr th {\n        vertical-align: top;\n    }\n\n    .dataframe thead th {\n        text-align: right;\n    }\n</style>\n<table border=\"1\" class=\"dataframe\">\n  <thead>\n    <tr style=\"text-align: right;\">\n      <th></th>\n      <th>request_id</th>\n      <th>request_date</th>\n      <th>valid_date_from</th>\n      <th>valid_date_to</th>\n      <th>weight</th>\n      <th>weight_unit</th>\n      <th>amount</th>\n      <th>container_type</th>\n      <th>shipping_type_x</th>\n      <th>hs_code</th>\n      <th>...</th>\n      <th>city_to</th>\n      <th>create_date</th>\n      <th>valid_from</th>\n      <th>valid_to</th>\n      <th>estimated_days</th>\n      <th>origin_name</th>\n      <th>destination_name</th>\n      <th>shipping_type_y</th>\n      <th>load_amount</th>\n      <th>price_usd</th>\n    </tr>\n  </thead>\n  <tbody>\n    <tr>\n      <th>0</th>\n      <td>867146</td>\n      <td>2023-09-29</td>\n      <td>2023-10-01</td>\n      <td>2023-10-08</td>\n      <td>25.00</td>\n      <td>Metric Ton</td>\n      <td>1.0</td>\n      <td>40' Standard</td>\n      <td>FCL</td>\n      <td>94-96</td>\n      <td>...</td>\n      <td>NaN</td>\n      <td>2023-11-28</td>\n      <td>2023-11-28</td>\n      <td>2023-12-31</td>\n      <td>NaN</td>\n      <td>Wuhan, Hubei, China</td>\n      <td>Madrid, Spain</td>\n      <td>RAIL_FCL</td>\n      <td>1</td>\n      <td>9900.0</td>\n    </tr>\n    <tr>\n      <th>1</th>\n      <td>881615</td>\n      <td>2023-11-01</td>\n      <td>2023-11-30</td>\n      <td>2023-12-07</td>\n      <td>24.00</td>\n      <td>Metric Ton</td>\n      <td>1.0</td>\n      <td>40' Standard</td>\n      <td>FCL</td>\n      <td>392062</td>\n      <td>...</td>\n      <td>NaN</td>\n      <td>2023-11-28</td>\n      <td>2023-11-28</td>\n      <td>2023-12-31</td>\n      <td>NaN</td>\n      <td>Wuhan, Hubei, China</td>\n      <td>Madrid, Spain</td>\n      <td>RAIL_FCL</td>\n      <td>1</td>\n      <td>9900.0</td>\n    </tr>\n    <tr>\n      <th>2</th>\n      <td>903961</td>\n      <td>2024-01-02</td>\n      <td>2024-01-10</td>\n      <td>2024-01-17</td>\n      <td>10.00</td>\n      <td>Metric Ton</td>\n      <td>1.0</td>\n      <td>40' Standard</td>\n      <td>FCL</td>\n      <td>761699</td>\n      <td>...</td>\n      <td>43460 Alcover, Tarragona, Spain</td>\n      <td>2023-11-28</td>\n      <td>2023-11-28</td>\n      <td>2023-12-31</td>\n      <td>NaN</td>\n      <td>Wuhan, Hubei, China</td>\n      <td>Madrid, Spain</td>\n      <td>RAIL_FCL</td>\n      <td>1</td>\n      <td>9900.0</td>\n    </tr>\n    <tr>\n      <th>3</th>\n      <td>916430</td>\n      <td>2024-01-24</td>\n      <td>2024-01-31</td>\n      <td>2024-02-07</td>\n      <td>10.46</td>\n      <td>Metric Ton</td>\n      <td>1.0</td>\n      <td>40' Standard</td>\n      <td>FCL</td>\n      <td>NaN</td>\n      <td>...</td>\n      <td>Valencia, Spain</td>\n      <td>2023-11-28</td>\n      <td>2023-11-28</td>\n      <td>2023-12-31</td>\n      <td>NaN</td>\n      <td>Wuhan, Hubei, China</td>\n      <td>Madrid, Spain</td>\n      <td>RAIL_FCL</td>\n      <td>1</td>\n      <td>9900.0</td>\n    </tr>\n    <tr>\n      <th>4</th>\n      <td>916434</td>\n      <td>2024-01-24</td>\n      <td>2024-02-21</td>\n      <td>2024-02-28</td>\n      <td>10.46</td>\n      <td>Metric Ton</td>\n      <td>1.0</td>\n      <td>40' Standard</td>\n      <td>FCL</td>\n      <td>NaN</td>\n      <td>...</td>\n      <td>Valencia, Spain</td>\n      <td>2023-11-28</td>\n      <td>2023-11-28</td>\n      <td>2023-12-31</td>\n      <td>NaN</td>\n      <td>Wuhan, Hubei, China</td>\n      <td>Madrid, Spain</td>\n      <td>RAIL_FCL</td>\n      <td>1</td>\n      <td>9900.0</td>\n    </tr>\n  </tbody>\n</table>\n<p>5 rows × 32 columns</p>\n</div>"
     },
     "execution_count": 52,
     "metadata": {},
     "output_type": "execute_result"
    }
   ],
   "source": [
    "rates_air_renamed = air.rename(columns={\n",
    "    'origin_country': 'port_from_country',\n",
    "    'destination_country': 'port_to_country',\n",
    "    'load_type': 'container_type'\n",
    "})\n",
    "\n",
    "# Объединение данных о запросах с тарифами для авиаперевозок.\n",
    "# В реальной ситуации потребуется учитывать периоды действия тарифов, что может потребовать дополнительной обработки.\n",
    "merged_leads_air = pd.merge(\n",
    "    leads,\n",
    "    rates_air_renamed,\n",
    "    how='inner',\n",
    "    on=['port_from_country', 'port_to_country', 'container_type']\n",
    ")\n",
    "\n",
    "merged_leads_air.head()\n"
   ],
   "metadata": {
    "collapsed": false
   }
  },
  {
   "cell_type": "code",
   "execution_count": 53,
   "outputs": [
    {
     "data": {
      "text/plain": "0     9900.0\n1     9900.0\n2     9900.0\n3     9900.0\n4     9900.0\n5     9900.0\n6     9900.0\n7     9900.0\n8     9450.0\n9     9450.0\n10    9450.0\n11    9450.0\n12    7450.0\n13    7450.0\n14    7450.0\n15    8250.0\n16    8250.0\n17    9750.0\n18    9750.0\n19    9750.0\nName: price_usd, dtype: float64"
     },
     "execution_count": 53,
     "metadata": {},
     "output_type": "execute_result"
    }
   ],
   "source": [
    "merged_leads_air['price_usd']"
   ],
   "metadata": {
    "collapsed": false
   }
  },
  {
   "cell_type": "code",
   "execution_count": 54,
   "outputs": [],
   "source": [
    "# Подготовка и объединение данных о запросах на перевозку с тарифами для наземных перевозок.\n",
    "rates_land_renamed = land.rename(columns={\n",
    "    'origin_country': 'port_from_country',\n",
    "    'destination_country': 'port_to_country',\n",
    "    'load_type': 'container_type'\n",
    "})\n",
    "merged_leads_land = pd.merge(\n",
    "    leads,\n",
    "    rates_land_renamed,\n",
    "    how='left',\n",
    "    on=['port_from_country', 'port_to_country', 'container_type']\n",
    ")\n",
    "\n",
    "# Подготовка и объединение данных о запросах на перевозку с тарифами для морских перевозок.\n",
    "rates_sea_renamed = sea.rename(columns={\n",
    "    'origin_country': 'port_from_country',\n",
    "    'destination_country': 'port_to_country',\n",
    "    'load_type': 'container_type'\n",
    "})\n",
    "merged_leads_sea = pd.merge(\n",
    "    leads,\n",
    "    rates_sea_renamed,\n",
    "    how='left',\n",
    "    on=['port_from_country', 'port_to_country', 'container_type']\n",
    ")\n",
    "\n"
   ],
   "metadata": {
    "collapsed": false
   }
  },
  {
   "cell_type": "code",
   "execution_count": 57,
   "outputs": [
    {
     "data": {
      "text/plain": "count    3161.000000\nmean     2605.406478\nstd       950.939758\nmin        80.000000\n25%      2050.000000\n50%      2383.000000\n75%      2950.000000\nmax      9394.000000\nName: price_usd, dtype: float64"
     },
     "execution_count": 57,
     "metadata": {},
     "output_type": "execute_result"
    }
   ],
   "source": [
    "merged_leads_land['price_usd'].describe()\n"
   ],
   "metadata": {
    "collapsed": false
   }
  },
  {
   "cell_type": "code",
   "execution_count": 58,
   "outputs": [
    {
     "data": {
      "text/plain": "count    0.0\nmean     NaN\nstd      NaN\nmin      NaN\n25%      NaN\n50%      NaN\n75%      NaN\nmax      NaN\nName: price_usd, dtype: float64"
     },
     "execution_count": 58,
     "metadata": {},
     "output_type": "execute_result"
    }
   ],
   "source": [
    "merged_leads_sea['price_usd'].describe()\n"
   ],
   "metadata": {
    "collapsed": false
   }
  }
 ],
 "metadata": {
  "kernelspec": {
   "display_name": "Python 3",
   "language": "python",
   "name": "python3"
  },
  "language_info": {
   "codemirror_mode": {
    "name": "ipython",
    "version": 2
   },
   "file_extension": ".py",
   "mimetype": "text/x-python",
   "name": "python",
   "nbconvert_exporter": "python",
   "pygments_lexer": "ipython2",
   "version": "2.7.6"
  }
 },
 "nbformat": 4,
 "nbformat_minor": 0
}
