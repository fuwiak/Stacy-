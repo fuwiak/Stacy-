{
 "cells": [
  {
   "cell_type": "code",
   "execution_count": 1,
   "metadata": {
    "collapsed": true
   },
   "outputs": [],
   "source": [
    "import pandas as pd\n",
    "import numpy as np\n",
    "import matplotlib.pyplot as plt\n",
    "import seaborn as sns\n",
    "import os\n",
    "\n",
    "from sklearn.model_selection import train_test_split\n",
    "from sklearn.preprocessing import MinMaxScaler\n",
    "from sklearn.feature_selection import SelectFromModel, SelectKBest, chi2\n",
    "from sklearn.linear_model import Lasso\n",
    "# import xgboost as xgb\n",
    "#DecisionTreeClassifier\n",
    "from sklearn.tree import DecisionTreeClassifier,DecisionTreeRegressor\n",
    "from typing import List, Dict,Tuple,Any\n",
    "from scipy.stats import chi2_contingency\n",
    "import scipy.stats as stats\n",
    "\n",
    "# Pipeline imports\n",
    "from sklearn.pipeline import Pipeline\n",
    "from sklearn.compose import ColumnTransformer\n",
    "from sklearn.preprocessing import FunctionTransformer\n",
    "from sklearn.impute import SimpleImputer\n",
    "from sklearn.preprocessing import StandardScaler, OneHotEncoder\n",
    "\n",
    "#import LogisticRegression\n",
    "from sklearn.linear_model import LogisticRegression\n",
    "#import RandomForestClassifier\n",
    "from sklearn.ensemble import RandomForestClassifier\n",
    "from sklearn.base import TransformerMixin\n",
    "#impory accuracy_score\n",
    "from sklearn.metrics import accuracy_score\n",
    "from sklearn.model_selection import cross_val_score\n",
    "\n",
    "import pickle\n",
    "\n",
    "from sklearn.base import TransformerMixin, BaseEstimator\n",
    "from sklearn.pipeline import Pipeline\n",
    "from sklearn.preprocessing import MinMaxScaler\n",
    "from sklearn.feature_selection import SelectFromModel, SelectKBest, chi2\n",
    "from sklearn.model_selection import train_test_split\n",
    "\n",
    "#ignore warnings\n",
    "import warnings\n",
    "warnings.filterwarnings('ignore')\n"
   ]
  },
  {
   "cell_type": "code",
   "execution_count": 2,
   "outputs": [
    {
     "data": {
      "text/plain": "['leads.csv', 'rates_land.csv', 'rates_sea.csv', 'rates_air.csv']"
     },
     "execution_count": 2,
     "metadata": {},
     "output_type": "execute_result"
    }
   ],
   "source": [
    "#list names of all files\n",
    "os.listdir('data')\n"
   ],
   "metadata": {
    "collapsed": false
   }
  },
  {
   "cell_type": "code",
   "execution_count": 3,
   "outputs": [],
   "source": [
    "#read the data\n",
    "list_of_files = os.listdir('data')\n",
    "leads, air, land, sea = [pd.read_csv('data/' + file) for file in list_of_files]"
   ],
   "metadata": {
    "collapsed": false
   }
  },
  {
   "cell_type": "code",
   "execution_count": 4,
   "outputs": [
    {
     "data": {
      "text/plain": "      request_id request_date valid_date_from valid_date_to  weight  \\\n0         855641   2023-09-05      2023-09-16    2023-09-23   26.63   \n1         855652   2023-09-05      2023-09-30    2023-10-07   28.00   \n2         855664   2023-09-05      2023-09-05    2023-09-12  200.00   \n3         855689   2023-09-05      2023-09-30    2023-10-07   26.00   \n4         855725   2023-09-05      2023-09-20    2023-09-27  250.00   \n...          ...          ...             ...           ...     ...   \n9893      941678   2024-03-05      2024-06-09    2024-06-16   30.00   \n9894      941682   2024-03-05      2024-03-05    2024-03-12   28.23   \n9895      941683   2024-03-05      2024-06-09    2024-06-09  310.00   \n9896      941687   2024-03-05      2024-04-06    2024-04-13   28.00   \n9897      941690   2024-03-05      2024-04-05    2024-04-12   10.00   \n\n     weight_unit  amount    container_type shipping_type hs_code  ...  \\\n0     Metric Ton     1.0  40' Refrigerated           FCL   06-14  ...   \n1     Metric Ton     1.0      20' Standard           FCL   25-27  ...   \n2     Metric Ton     1.0      20' Standard           FCL     NaN  ...   \n3     Metric Ton    20.0      40' Standard           FCL    0910  ...   \n4     Metric Ton     NaN               NaN           LCL    8711  ...   \n...          ...     ...               ...           ...     ...  ...   \n9893    Kilogram     NaN               NaN           LCL     NaN  ...   \n9894  Metric Ton     1.0      20' Standard           FCL   94-96  ...   \n9895    Kilogram     NaN               NaN           LCL     NaN  ...   \n9896  Metric Ton     1.0      20' Standard           FCL   50-63  ...   \n9897  Metric Ton     1.0      40' Standard           FCL   84-85  ...   \n\n      liquid_cargo  imo_code  city_from_country  \\\n0            False       NaN                NaN   \n1            False       NaN                NaN   \n2            False       NaN                NaN   \n3            False       NaN                NaN   \n4            False       NaN                NaN   \n...            ...       ...                ...   \n9893         False       NaN                 IT   \n9894         False       NaN                NaN   \n9895         False       NaN                 IT   \n9896         False       NaN                 ZA   \n9897         False       NaN                 CN   \n\n                                              city_from  port_from_country  \\\n0                                                   NaN                 ID   \n1                                                   NaN                 BR   \n2                                                   NaN                 CN   \n3                                                   NaN                 NG   \n4                                                   NaN                 IN   \n...                                                 ...                ...   \n9893                    Padua, Province of Padua, Italy                 IT   \n9894                                                NaN                 BR   \n9895                    Padua, Province of Padua, Italy                 IT   \n9896  Cape Town City Centre, Cape Town, 8000, South ...                 ZA   \n9897                                     Tianjin, China                 CN   \n\n            port_from port_to_country            port_to city_to_country  \\\n0             Jakarta              BD         Chittagong             NaN   \n1             Vitoria              US            Houston              US   \n2             Chengdu              DO            Caucedo              DO   \n3               Apapa              AE          Jebel Ali              AE   \n4             Chennai              DE  FRANKFURT AM MAIN              DE   \n...               ...             ...                ...             ...   \n9893           Venice              CA            Toronto              CA   \n9894  Rio De Jan Eiro              SG          Singapore             NaN   \n9895           Venice              CA            Toronto              CA   \n9896        Cape Town              US         Charleston             NaN   \n9897          Tianjin              CO       Buenaventura             NaN   \n\n                                            city_to  \n0                                               NaN  \n1                                  Houston, TX, USA  \n2                                Dominican Republic  \n3     Mina Jebel Ali - Dubai - United Arab Emirates  \n4                                Frankfurt, Germany  \n...                                             ...  \n9893                            Toronto, ON, Canada  \n9894                                            NaN  \n9895                            Toronto, ON, Canada  \n9896                                            NaN  \n9897                                            NaN  \n\n[9898 rows x 23 columns]",
      "text/html": "<div>\n<style scoped>\n    .dataframe tbody tr th:only-of-type {\n        vertical-align: middle;\n    }\n\n    .dataframe tbody tr th {\n        vertical-align: top;\n    }\n\n    .dataframe thead th {\n        text-align: right;\n    }\n</style>\n<table border=\"1\" class=\"dataframe\">\n  <thead>\n    <tr style=\"text-align: right;\">\n      <th></th>\n      <th>request_id</th>\n      <th>request_date</th>\n      <th>valid_date_from</th>\n      <th>valid_date_to</th>\n      <th>weight</th>\n      <th>weight_unit</th>\n      <th>amount</th>\n      <th>container_type</th>\n      <th>shipping_type</th>\n      <th>hs_code</th>\n      <th>...</th>\n      <th>liquid_cargo</th>\n      <th>imo_code</th>\n      <th>city_from_country</th>\n      <th>city_from</th>\n      <th>port_from_country</th>\n      <th>port_from</th>\n      <th>port_to_country</th>\n      <th>port_to</th>\n      <th>city_to_country</th>\n      <th>city_to</th>\n    </tr>\n  </thead>\n  <tbody>\n    <tr>\n      <th>0</th>\n      <td>855641</td>\n      <td>2023-09-05</td>\n      <td>2023-09-16</td>\n      <td>2023-09-23</td>\n      <td>26.63</td>\n      <td>Metric Ton</td>\n      <td>1.0</td>\n      <td>40' Refrigerated</td>\n      <td>FCL</td>\n      <td>06-14</td>\n      <td>...</td>\n      <td>False</td>\n      <td>NaN</td>\n      <td>NaN</td>\n      <td>NaN</td>\n      <td>ID</td>\n      <td>Jakarta</td>\n      <td>BD</td>\n      <td>Chittagong</td>\n      <td>NaN</td>\n      <td>NaN</td>\n    </tr>\n    <tr>\n      <th>1</th>\n      <td>855652</td>\n      <td>2023-09-05</td>\n      <td>2023-09-30</td>\n      <td>2023-10-07</td>\n      <td>28.00</td>\n      <td>Metric Ton</td>\n      <td>1.0</td>\n      <td>20' Standard</td>\n      <td>FCL</td>\n      <td>25-27</td>\n      <td>...</td>\n      <td>False</td>\n      <td>NaN</td>\n      <td>NaN</td>\n      <td>NaN</td>\n      <td>BR</td>\n      <td>Vitoria</td>\n      <td>US</td>\n      <td>Houston</td>\n      <td>US</td>\n      <td>Houston, TX, USA</td>\n    </tr>\n    <tr>\n      <th>2</th>\n      <td>855664</td>\n      <td>2023-09-05</td>\n      <td>2023-09-05</td>\n      <td>2023-09-12</td>\n      <td>200.00</td>\n      <td>Metric Ton</td>\n      <td>1.0</td>\n      <td>20' Standard</td>\n      <td>FCL</td>\n      <td>NaN</td>\n      <td>...</td>\n      <td>False</td>\n      <td>NaN</td>\n      <td>NaN</td>\n      <td>NaN</td>\n      <td>CN</td>\n      <td>Chengdu</td>\n      <td>DO</td>\n      <td>Caucedo</td>\n      <td>DO</td>\n      <td>Dominican Republic</td>\n    </tr>\n    <tr>\n      <th>3</th>\n      <td>855689</td>\n      <td>2023-09-05</td>\n      <td>2023-09-30</td>\n      <td>2023-10-07</td>\n      <td>26.00</td>\n      <td>Metric Ton</td>\n      <td>20.0</td>\n      <td>40' Standard</td>\n      <td>FCL</td>\n      <td>0910</td>\n      <td>...</td>\n      <td>False</td>\n      <td>NaN</td>\n      <td>NaN</td>\n      <td>NaN</td>\n      <td>NG</td>\n      <td>Apapa</td>\n      <td>AE</td>\n      <td>Jebel Ali</td>\n      <td>AE</td>\n      <td>Mina Jebel Ali - Dubai - United Arab Emirates</td>\n    </tr>\n    <tr>\n      <th>4</th>\n      <td>855725</td>\n      <td>2023-09-05</td>\n      <td>2023-09-20</td>\n      <td>2023-09-27</td>\n      <td>250.00</td>\n      <td>Metric Ton</td>\n      <td>NaN</td>\n      <td>NaN</td>\n      <td>LCL</td>\n      <td>8711</td>\n      <td>...</td>\n      <td>False</td>\n      <td>NaN</td>\n      <td>NaN</td>\n      <td>NaN</td>\n      <td>IN</td>\n      <td>Chennai</td>\n      <td>DE</td>\n      <td>FRANKFURT AM MAIN</td>\n      <td>DE</td>\n      <td>Frankfurt, Germany</td>\n    </tr>\n    <tr>\n      <th>...</th>\n      <td>...</td>\n      <td>...</td>\n      <td>...</td>\n      <td>...</td>\n      <td>...</td>\n      <td>...</td>\n      <td>...</td>\n      <td>...</td>\n      <td>...</td>\n      <td>...</td>\n      <td>...</td>\n      <td>...</td>\n      <td>...</td>\n      <td>...</td>\n      <td>...</td>\n      <td>...</td>\n      <td>...</td>\n      <td>...</td>\n      <td>...</td>\n      <td>...</td>\n      <td>...</td>\n    </tr>\n    <tr>\n      <th>9893</th>\n      <td>941678</td>\n      <td>2024-03-05</td>\n      <td>2024-06-09</td>\n      <td>2024-06-16</td>\n      <td>30.00</td>\n      <td>Kilogram</td>\n      <td>NaN</td>\n      <td>NaN</td>\n      <td>LCL</td>\n      <td>NaN</td>\n      <td>...</td>\n      <td>False</td>\n      <td>NaN</td>\n      <td>IT</td>\n      <td>Padua, Province of Padua, Italy</td>\n      <td>IT</td>\n      <td>Venice</td>\n      <td>CA</td>\n      <td>Toronto</td>\n      <td>CA</td>\n      <td>Toronto, ON, Canada</td>\n    </tr>\n    <tr>\n      <th>9894</th>\n      <td>941682</td>\n      <td>2024-03-05</td>\n      <td>2024-03-05</td>\n      <td>2024-03-12</td>\n      <td>28.23</td>\n      <td>Metric Ton</td>\n      <td>1.0</td>\n      <td>20' Standard</td>\n      <td>FCL</td>\n      <td>94-96</td>\n      <td>...</td>\n      <td>False</td>\n      <td>NaN</td>\n      <td>NaN</td>\n      <td>NaN</td>\n      <td>BR</td>\n      <td>Rio De Jan Eiro</td>\n      <td>SG</td>\n      <td>Singapore</td>\n      <td>NaN</td>\n      <td>NaN</td>\n    </tr>\n    <tr>\n      <th>9895</th>\n      <td>941683</td>\n      <td>2024-03-05</td>\n      <td>2024-06-09</td>\n      <td>2024-06-09</td>\n      <td>310.00</td>\n      <td>Kilogram</td>\n      <td>NaN</td>\n      <td>NaN</td>\n      <td>LCL</td>\n      <td>NaN</td>\n      <td>...</td>\n      <td>False</td>\n      <td>NaN</td>\n      <td>IT</td>\n      <td>Padua, Province of Padua, Italy</td>\n      <td>IT</td>\n      <td>Venice</td>\n      <td>CA</td>\n      <td>Toronto</td>\n      <td>CA</td>\n      <td>Toronto, ON, Canada</td>\n    </tr>\n    <tr>\n      <th>9896</th>\n      <td>941687</td>\n      <td>2024-03-05</td>\n      <td>2024-04-06</td>\n      <td>2024-04-13</td>\n      <td>28.00</td>\n      <td>Metric Ton</td>\n      <td>1.0</td>\n      <td>20' Standard</td>\n      <td>FCL</td>\n      <td>50-63</td>\n      <td>...</td>\n      <td>False</td>\n      <td>NaN</td>\n      <td>ZA</td>\n      <td>Cape Town City Centre, Cape Town, 8000, South ...</td>\n      <td>ZA</td>\n      <td>Cape Town</td>\n      <td>US</td>\n      <td>Charleston</td>\n      <td>NaN</td>\n      <td>NaN</td>\n    </tr>\n    <tr>\n      <th>9897</th>\n      <td>941690</td>\n      <td>2024-03-05</td>\n      <td>2024-04-05</td>\n      <td>2024-04-12</td>\n      <td>10.00</td>\n      <td>Metric Ton</td>\n      <td>1.0</td>\n      <td>40' Standard</td>\n      <td>FCL</td>\n      <td>84-85</td>\n      <td>...</td>\n      <td>False</td>\n      <td>NaN</td>\n      <td>CN</td>\n      <td>Tianjin, China</td>\n      <td>CN</td>\n      <td>Tianjin</td>\n      <td>CO</td>\n      <td>Buenaventura</td>\n      <td>NaN</td>\n      <td>NaN</td>\n    </tr>\n  </tbody>\n</table>\n<p>9898 rows × 23 columns</p>\n</div>"
     },
     "execution_count": 4,
     "metadata": {},
     "output_type": "execute_result"
    }
   ],
   "source": [
    "leads\n"
   ],
   "metadata": {
    "collapsed": false
   }
  },
  {
   "cell_type": "code",
   "execution_count": 5,
   "outputs": [
    {
     "data": {
      "text/plain": "    create_date  valid_from    valid_to  estimated_days origin_country  \\\n0    2024-02-11  2024-02-01  2024-12-31             6.0             ZW   \n1    2024-02-11  2024-02-01  2024-12-31             6.0             ZW   \n2    2024-02-11  2024-01-01  2024-12-31             5.0             MZ   \n3    2024-02-11  2024-01-01  2024-12-31             5.0             MZ   \n4    2024-02-11  2024-01-01  2024-12-31             5.0             ZW   \n..          ...         ...         ...             ...            ...   \n995  2023-10-09  2023-10-10  2023-10-11             NaN             US   \n996  2023-10-09  2023-11-24  2023-11-28             NaN             GB   \n997  2023-10-09  2023-10-10  2023-10-12             NaN             US   \n998  2023-10-09  2023-11-29  2023-12-01             NaN             GB   \n999  2023-10-09  2023-10-10  2023-10-12             NaN             US   \n\n                                           origin_name destination_country  \\\n0                                     Harare, Zimbabwe                  MZ   \n1                                     Harare, Zimbabwe                  MZ   \n2                                    Beira, Mozambique                  ZW   \n3                                    Beira, Mozambique                  ZW   \n4                                     Harare, Zimbabwe                  MZ   \n..                                                 ...                 ...   \n995                               Los Angeles, CA, USA                  US   \n996  Victoria Embankment Gardens, Villiers St, Lond...                  GB   \n997                               Los Angeles, CA, USA                  US   \n998  Victoria Embankment Gardens, Villiers St, Lond...                  GB   \n999                               Los Angeles, CA, USA                  US   \n\n                                  destination_name shipping_type  \\\n0                               Maputo, Mozambique      RAIL_FCL   \n1                               Maputo, Mozambique      RAIL_FCL   \n2                                 Harare, Zimbabwe      RAIL_FCL   \n3                                 Harare, Zimbabwe      RAIL_FCL   \n4                                Beira, Mozambique      RAIL_FCL   \n..                                             ...           ...   \n995  Via Cabrillo-Marina, San Pedro, CA 90731, USA           LTL   \n996                                   Cheshire, UK           LTL   \n997  Via Cabrillo-Marina, San Pedro, CA 90731, USA           LTL   \n998                                   Cheshire, UK           LTL   \n999  Via Cabrillo-Marina, San Pedro, CA 90731, USA           LTL   \n\n        load_type  load_amount  price_usd  \n0    40' Standard            1    2430.00  \n1    20' Standard            1    1850.00  \n2    40' Standard            1    1850.00  \n3    20' Standard            1    1180.00  \n4    20' Standard            1    1180.00  \n..            ...          ...        ...  \n995            mt            1     293.79  \n996            mt            1     118.70  \n997            mt            1     135.94  \n998            mt            1     118.70  \n999            mt            1     130.36  \n\n[1000 rows x 12 columns]",
      "text/html": "<div>\n<style scoped>\n    .dataframe tbody tr th:only-of-type {\n        vertical-align: middle;\n    }\n\n    .dataframe tbody tr th {\n        vertical-align: top;\n    }\n\n    .dataframe thead th {\n        text-align: right;\n    }\n</style>\n<table border=\"1\" class=\"dataframe\">\n  <thead>\n    <tr style=\"text-align: right;\">\n      <th></th>\n      <th>create_date</th>\n      <th>valid_from</th>\n      <th>valid_to</th>\n      <th>estimated_days</th>\n      <th>origin_country</th>\n      <th>origin_name</th>\n      <th>destination_country</th>\n      <th>destination_name</th>\n      <th>shipping_type</th>\n      <th>load_type</th>\n      <th>load_amount</th>\n      <th>price_usd</th>\n    </tr>\n  </thead>\n  <tbody>\n    <tr>\n      <th>0</th>\n      <td>2024-02-11</td>\n      <td>2024-02-01</td>\n      <td>2024-12-31</td>\n      <td>6.0</td>\n      <td>ZW</td>\n      <td>Harare, Zimbabwe</td>\n      <td>MZ</td>\n      <td>Maputo, Mozambique</td>\n      <td>RAIL_FCL</td>\n      <td>40' Standard</td>\n      <td>1</td>\n      <td>2430.00</td>\n    </tr>\n    <tr>\n      <th>1</th>\n      <td>2024-02-11</td>\n      <td>2024-02-01</td>\n      <td>2024-12-31</td>\n      <td>6.0</td>\n      <td>ZW</td>\n      <td>Harare, Zimbabwe</td>\n      <td>MZ</td>\n      <td>Maputo, Mozambique</td>\n      <td>RAIL_FCL</td>\n      <td>20' Standard</td>\n      <td>1</td>\n      <td>1850.00</td>\n    </tr>\n    <tr>\n      <th>2</th>\n      <td>2024-02-11</td>\n      <td>2024-01-01</td>\n      <td>2024-12-31</td>\n      <td>5.0</td>\n      <td>MZ</td>\n      <td>Beira, Mozambique</td>\n      <td>ZW</td>\n      <td>Harare, Zimbabwe</td>\n      <td>RAIL_FCL</td>\n      <td>40' Standard</td>\n      <td>1</td>\n      <td>1850.00</td>\n    </tr>\n    <tr>\n      <th>3</th>\n      <td>2024-02-11</td>\n      <td>2024-01-01</td>\n      <td>2024-12-31</td>\n      <td>5.0</td>\n      <td>MZ</td>\n      <td>Beira, Mozambique</td>\n      <td>ZW</td>\n      <td>Harare, Zimbabwe</td>\n      <td>RAIL_FCL</td>\n      <td>20' Standard</td>\n      <td>1</td>\n      <td>1180.00</td>\n    </tr>\n    <tr>\n      <th>4</th>\n      <td>2024-02-11</td>\n      <td>2024-01-01</td>\n      <td>2024-12-31</td>\n      <td>5.0</td>\n      <td>ZW</td>\n      <td>Harare, Zimbabwe</td>\n      <td>MZ</td>\n      <td>Beira, Mozambique</td>\n      <td>RAIL_FCL</td>\n      <td>20' Standard</td>\n      <td>1</td>\n      <td>1180.00</td>\n    </tr>\n    <tr>\n      <th>...</th>\n      <td>...</td>\n      <td>...</td>\n      <td>...</td>\n      <td>...</td>\n      <td>...</td>\n      <td>...</td>\n      <td>...</td>\n      <td>...</td>\n      <td>...</td>\n      <td>...</td>\n      <td>...</td>\n      <td>...</td>\n    </tr>\n    <tr>\n      <th>995</th>\n      <td>2023-10-09</td>\n      <td>2023-10-10</td>\n      <td>2023-10-11</td>\n      <td>NaN</td>\n      <td>US</td>\n      <td>Los Angeles, CA, USA</td>\n      <td>US</td>\n      <td>Via Cabrillo-Marina, San Pedro, CA 90731, USA</td>\n      <td>LTL</td>\n      <td>mt</td>\n      <td>1</td>\n      <td>293.79</td>\n    </tr>\n    <tr>\n      <th>996</th>\n      <td>2023-10-09</td>\n      <td>2023-11-24</td>\n      <td>2023-11-28</td>\n      <td>NaN</td>\n      <td>GB</td>\n      <td>Victoria Embankment Gardens, Villiers St, Lond...</td>\n      <td>GB</td>\n      <td>Cheshire, UK</td>\n      <td>LTL</td>\n      <td>mt</td>\n      <td>1</td>\n      <td>118.70</td>\n    </tr>\n    <tr>\n      <th>997</th>\n      <td>2023-10-09</td>\n      <td>2023-10-10</td>\n      <td>2023-10-12</td>\n      <td>NaN</td>\n      <td>US</td>\n      <td>Los Angeles, CA, USA</td>\n      <td>US</td>\n      <td>Via Cabrillo-Marina, San Pedro, CA 90731, USA</td>\n      <td>LTL</td>\n      <td>mt</td>\n      <td>1</td>\n      <td>135.94</td>\n    </tr>\n    <tr>\n      <th>998</th>\n      <td>2023-10-09</td>\n      <td>2023-11-29</td>\n      <td>2023-12-01</td>\n      <td>NaN</td>\n      <td>GB</td>\n      <td>Victoria Embankment Gardens, Villiers St, Lond...</td>\n      <td>GB</td>\n      <td>Cheshire, UK</td>\n      <td>LTL</td>\n      <td>mt</td>\n      <td>1</td>\n      <td>118.70</td>\n    </tr>\n    <tr>\n      <th>999</th>\n      <td>2023-10-09</td>\n      <td>2023-10-10</td>\n      <td>2023-10-12</td>\n      <td>NaN</td>\n      <td>US</td>\n      <td>Los Angeles, CA, USA</td>\n      <td>US</td>\n      <td>Via Cabrillo-Marina, San Pedro, CA 90731, USA</td>\n      <td>LTL</td>\n      <td>mt</td>\n      <td>1</td>\n      <td>130.36</td>\n    </tr>\n  </tbody>\n</table>\n<p>1000 rows × 12 columns</p>\n</div>"
     },
     "execution_count": 5,
     "metadata": {},
     "output_type": "execute_result"
    }
   ],
   "source": [
    "air\n"
   ],
   "metadata": {
    "collapsed": false
   }
  },
  {
   "cell_type": "code",
   "execution_count": 6,
   "outputs": [
    {
     "data": {
      "text/plain": "   request_id request_date valid_date_from valid_date_to  weight weight_unit  \\\n0      867146   2023-09-29      2023-10-01    2023-10-08    25.0  Metric Ton   \n1      870321   2023-10-07      2023-10-25    2023-11-01     6.0  Metric Ton   \n2      878371   2023-10-25      2023-11-26    2023-12-03     7.0  Metric Ton   \n3      881615   2023-11-01      2023-11-30    2023-12-07    24.0  Metric Ton   \n4      887094   2023-11-20      2023-11-30    2023-12-07    20.0  Metric Ton   \n\n   amount container_type shipping_type_x hs_code  ...           city_to  \\\n0     1.0   40' Standard             FCL   94-96  ...               NaN   \n1     1.0   40' Standard             FCL   84-85  ...  Le Havre, France   \n2     1.0   40' Standard             FCL  482369  ...               NaN   \n3     1.0   40' Standard             FCL  392062  ...               NaN   \n4     1.0   40' Standard             FCL  842951  ...  Katowice, Poland   \n\n   create_date  valid_from    valid_to  estimated_days          origin_name  \\\n0   2023-11-28  2023-11-28  2023-12-31             NaN  Wuhan, Hubei, China   \n1   2023-11-28  2023-11-28  2023-12-31             NaN  Wuhan, Hubei, China   \n2   2023-11-28  2023-11-28  2023-12-31             NaN  Wuhan, Hubei, China   \n3   2023-11-28  2023-11-28  2023-12-31             NaN  Wuhan, Hubei, China   \n4   2023-11-28  2023-11-28  2023-12-31             NaN  Wuhan, Hubei, China   \n\n          destination_name shipping_type_y load_amount price_usd  \n0            Madrid, Spain        RAIL_FCL           1    9900.0  \n1  Lyon Metropolis, France        RAIL_FCL           1    9450.0  \n2  Lyon Metropolis, France        RAIL_FCL           1    9450.0  \n3            Madrid, Spain        RAIL_FCL           1    9900.0  \n4     Małaszewicze, Poland        RAIL_FCL           1    7450.0  \n\n[5 rows x 32 columns]",
      "text/html": "<div>\n<style scoped>\n    .dataframe tbody tr th:only-of-type {\n        vertical-align: middle;\n    }\n\n    .dataframe tbody tr th {\n        vertical-align: top;\n    }\n\n    .dataframe thead th {\n        text-align: right;\n    }\n</style>\n<table border=\"1\" class=\"dataframe\">\n  <thead>\n    <tr style=\"text-align: right;\">\n      <th></th>\n      <th>request_id</th>\n      <th>request_date</th>\n      <th>valid_date_from</th>\n      <th>valid_date_to</th>\n      <th>weight</th>\n      <th>weight_unit</th>\n      <th>amount</th>\n      <th>container_type</th>\n      <th>shipping_type_x</th>\n      <th>hs_code</th>\n      <th>...</th>\n      <th>city_to</th>\n      <th>create_date</th>\n      <th>valid_from</th>\n      <th>valid_to</th>\n      <th>estimated_days</th>\n      <th>origin_name</th>\n      <th>destination_name</th>\n      <th>shipping_type_y</th>\n      <th>load_amount</th>\n      <th>price_usd</th>\n    </tr>\n  </thead>\n  <tbody>\n    <tr>\n      <th>0</th>\n      <td>867146</td>\n      <td>2023-09-29</td>\n      <td>2023-10-01</td>\n      <td>2023-10-08</td>\n      <td>25.0</td>\n      <td>Metric Ton</td>\n      <td>1.0</td>\n      <td>40' Standard</td>\n      <td>FCL</td>\n      <td>94-96</td>\n      <td>...</td>\n      <td>NaN</td>\n      <td>2023-11-28</td>\n      <td>2023-11-28</td>\n      <td>2023-12-31</td>\n      <td>NaN</td>\n      <td>Wuhan, Hubei, China</td>\n      <td>Madrid, Spain</td>\n      <td>RAIL_FCL</td>\n      <td>1</td>\n      <td>9900.0</td>\n    </tr>\n    <tr>\n      <th>1</th>\n      <td>870321</td>\n      <td>2023-10-07</td>\n      <td>2023-10-25</td>\n      <td>2023-11-01</td>\n      <td>6.0</td>\n      <td>Metric Ton</td>\n      <td>1.0</td>\n      <td>40' Standard</td>\n      <td>FCL</td>\n      <td>84-85</td>\n      <td>...</td>\n      <td>Le Havre, France</td>\n      <td>2023-11-28</td>\n      <td>2023-11-28</td>\n      <td>2023-12-31</td>\n      <td>NaN</td>\n      <td>Wuhan, Hubei, China</td>\n      <td>Lyon Metropolis, France</td>\n      <td>RAIL_FCL</td>\n      <td>1</td>\n      <td>9450.0</td>\n    </tr>\n    <tr>\n      <th>2</th>\n      <td>878371</td>\n      <td>2023-10-25</td>\n      <td>2023-11-26</td>\n      <td>2023-12-03</td>\n      <td>7.0</td>\n      <td>Metric Ton</td>\n      <td>1.0</td>\n      <td>40' Standard</td>\n      <td>FCL</td>\n      <td>482369</td>\n      <td>...</td>\n      <td>NaN</td>\n      <td>2023-11-28</td>\n      <td>2023-11-28</td>\n      <td>2023-12-31</td>\n      <td>NaN</td>\n      <td>Wuhan, Hubei, China</td>\n      <td>Lyon Metropolis, France</td>\n      <td>RAIL_FCL</td>\n      <td>1</td>\n      <td>9450.0</td>\n    </tr>\n    <tr>\n      <th>3</th>\n      <td>881615</td>\n      <td>2023-11-01</td>\n      <td>2023-11-30</td>\n      <td>2023-12-07</td>\n      <td>24.0</td>\n      <td>Metric Ton</td>\n      <td>1.0</td>\n      <td>40' Standard</td>\n      <td>FCL</td>\n      <td>392062</td>\n      <td>...</td>\n      <td>NaN</td>\n      <td>2023-11-28</td>\n      <td>2023-11-28</td>\n      <td>2023-12-31</td>\n      <td>NaN</td>\n      <td>Wuhan, Hubei, China</td>\n      <td>Madrid, Spain</td>\n      <td>RAIL_FCL</td>\n      <td>1</td>\n      <td>9900.0</td>\n    </tr>\n    <tr>\n      <th>4</th>\n      <td>887094</td>\n      <td>2023-11-20</td>\n      <td>2023-11-30</td>\n      <td>2023-12-07</td>\n      <td>20.0</td>\n      <td>Metric Ton</td>\n      <td>1.0</td>\n      <td>40' Standard</td>\n      <td>FCL</td>\n      <td>842951</td>\n      <td>...</td>\n      <td>Katowice, Poland</td>\n      <td>2023-11-28</td>\n      <td>2023-11-28</td>\n      <td>2023-12-31</td>\n      <td>NaN</td>\n      <td>Wuhan, Hubei, China</td>\n      <td>Małaszewicze, Poland</td>\n      <td>RAIL_FCL</td>\n      <td>1</td>\n      <td>7450.0</td>\n    </tr>\n  </tbody>\n</table>\n<p>5 rows × 32 columns</p>\n</div>"
     },
     "execution_count": 6,
     "metadata": {},
     "output_type": "execute_result"
    }
   ],
   "source": [
    "rates_air_renamed = air.rename(columns={\n",
    "    'origin_country': 'port_from_country',\n",
    "    'destination_country': 'port_to_country',\n",
    "    'load_type': 'container_type'\n",
    "})\n",
    "\n",
    "# Объединение данных о запросах с тарифами для авиаперевозок.\n",
    "# В реальной ситуации потребуется учитывать периоды действия тарифов, что может потребовать дополнительной обработки.\n",
    "merged_leads_air = pd.merge(\n",
    "    leads,\n",
    "    rates_air_renamed,\n",
    "    how='inner',\n",
    "    on=['port_from_country', 'port_to_country', 'container_type']\n",
    ")\n",
    "\n",
    "merged_leads_air.head()\n"
   ],
   "metadata": {
    "collapsed": false
   }
  },
  {
   "cell_type": "code",
   "execution_count": 7,
   "outputs": [
    {
     "data": {
      "text/plain": "0     9900.0\n1     9450.0\n2     9450.0\n3     9900.0\n4     7450.0\n5     8250.0\n6     8250.0\n7     9900.0\n8     7450.0\n9     9750.0\n10    9900.0\n11    9900.0\n12    9900.0\n13    9900.0\n14    9900.0\n15    9450.0\n16    9750.0\n17    9450.0\n18    9750.0\n19    7450.0\nName: price_usd, dtype: float64"
     },
     "execution_count": 7,
     "metadata": {},
     "output_type": "execute_result"
    }
   ],
   "source": [
    "merged_leads_air['price_usd']"
   ],
   "metadata": {
    "collapsed": false
   }
  },
  {
   "cell_type": "code",
   "execution_count": 8,
   "outputs": [],
   "source": [
    "# Подготовка и объединение данных о запросах на перевозку с тарифами для наземных перевозок.\n",
    "rates_land_renamed = land.rename(columns={\n",
    "    'origin_country': 'port_from_country',\n",
    "    'destination_country': 'port_to_country',\n",
    "    'load_type': 'container_type'\n",
    "})\n",
    "merged_leads_land = pd.merge(\n",
    "    leads,\n",
    "    rates_land_renamed,\n",
    "    how='left',\n",
    "    on=['port_from_country', 'port_to_country', 'container_type']\n",
    ")\n",
    "\n",
    "# Подготовка и объединение данных о запросах на перевозку с тарифами для морских перевозок.\n",
    "rates_sea_renamed = sea.rename(columns={\n",
    "    'origin_country': 'port_from_country',\n",
    "    'destination_country': 'port_to_country',\n",
    "    'load_type': 'container_type'\n",
    "})\n",
    "merged_leads_sea = pd.merge(\n",
    "    leads,\n",
    "    rates_sea_renamed,\n",
    "    how='left',\n",
    "    on=['port_from_country', 'port_to_country', 'container_type']\n",
    ")\n",
    "\n"
   ],
   "metadata": {
    "collapsed": false
   }
  },
  {
   "cell_type": "code",
   "execution_count": 9,
   "outputs": [
    {
     "data": {
      "text/plain": "count    3161.000000\nmean     2605.406478\nstd       950.939758\nmin        80.000000\n25%      2050.000000\n50%      2383.000000\n75%      2950.000000\nmax      9394.000000\nName: price_usd, dtype: float64"
     },
     "execution_count": 9,
     "metadata": {},
     "output_type": "execute_result"
    }
   ],
   "source": [
    "merged_leads_land['price_usd'].describe()\n"
   ],
   "metadata": {
    "collapsed": false
   }
  },
  {
   "cell_type": "code",
   "execution_count": 10,
   "outputs": [],
   "source": [
    "# merged_leads_land анализ\n",
    "#в основном цены только на leads_land"
   ],
   "metadata": {
    "collapsed": false
   }
  },
  {
   "cell_type": "code",
   "execution_count": 11,
   "outputs": [
    {
     "data": {
      "text/plain": "count    3161.000000\nmean     2605.406478\nstd       950.939758\nmin        80.000000\n25%      2050.000000\n50%      2383.000000\n75%      2950.000000\nmax      9394.000000\nName: price_usd, dtype: float64"
     },
     "execution_count": 11,
     "metadata": {},
     "output_type": "execute_result"
    }
   ],
   "source": [
    "merged_leads_land['price_usd'].describe()"
   ],
   "metadata": {
    "collapsed": false
   }
  },
  {
   "cell_type": "code",
   "execution_count": 12,
   "outputs": [
    {
     "name": "stdout",
     "output_type": "stream",
     "text": [
      "<class 'pandas.core.frame.DataFrame'>\n",
      "RangeIndex: 12554 entries, 0 to 12553\n",
      "Data columns (total 35 columns):\n",
      " #   Column             Non-Null Count  Dtype  \n",
      "---  ------             --------------  -----  \n",
      " 0   request_id         12554 non-null  int64  \n",
      " 1   request_date       12554 non-null  object \n",
      " 2   valid_date_from    12554 non-null  object \n",
      " 3   valid_date_to      12554 non-null  object \n",
      " 4   weight             12554 non-null  float64\n",
      " 5   weight_unit        12554 non-null  object \n",
      " 6   amount             10179 non-null  float64\n",
      " 7   container_type     10424 non-null  object \n",
      " 8   shipping_type_x    12554 non-null  object \n",
      " 9   hs_code            9689 non-null   object \n",
      " 10  freight_all_kinds  12554 non-null  bool   \n",
      " 11  personal_cargo     12554 non-null  bool   \n",
      " 12  perishable_cargo   12554 non-null  bool   \n",
      " 13  liquid_cargo       12554 non-null  bool   \n",
      " 14  imo_code           98 non-null     float64\n",
      " 15  city_from_country  6348 non-null   object \n",
      " 16  city_from          6352 non-null   object \n",
      " 17  port_from_country  12102 non-null  object \n",
      " 18  port_from          12108 non-null  object \n",
      " 19  port_to_country    12106 non-null  object \n",
      " 20  port_to            12115 non-null  object \n",
      " 21  city_to_country    5767 non-null   object \n",
      " 22  city_to            5770 non-null   object \n",
      " 23  create_date        3161 non-null   object \n",
      " 24  valid_from         3161 non-null   object \n",
      " 25  valid_to           3161 non-null   object \n",
      " 26  carrier            2055 non-null   object \n",
      " 27  estimated_days     2454 non-null   float64\n",
      " 28  origin_name        3161 non-null   object \n",
      " 29  origin_code5       3161 non-null   object \n",
      " 30  destination_name   3161 non-null   object \n",
      " 31  destination_code5  3161 non-null   object \n",
      " 32  shipping_type_y    3161 non-null   object \n",
      " 33  load_amount        3161 non-null   float64\n",
      " 34  price_usd          3161 non-null   float64\n",
      "dtypes: bool(4), float64(6), int64(1), object(24)\n",
      "memory usage: 3.0+ MB\n"
     ]
    }
   ],
   "source": [
    "merged_leads_land.info()"
   ],
   "metadata": {
    "collapsed": false
   }
  },
  {
   "cell_type": "code",
   "execution_count": 13,
   "outputs": [],
   "source": [
    "#sepatare data for null and not null\n",
    "merged_leads_land_null = merged_leads_land[merged_leads_land['price_usd'].isnull()]\n",
    "merged_leads_land_not_null = merged_leads_land[merged_leads_land['price_usd'].notnull()]\n"
   ],
   "metadata": {
    "collapsed": false
   }
  },
  {
   "cell_type": "code",
   "execution_count": 14,
   "outputs": [
    {
     "data": {
      "text/plain": "       request_id request_date valid_date_from valid_date_to  weight  \\\n2          855664   2023-09-05      2023-09-05    2023-09-12  200.00   \n3          855664   2023-09-05      2023-09-05    2023-09-12  200.00   \n4          855664   2023-09-05      2023-09-05    2023-09-12  200.00   \n5          855664   2023-09-05      2023-09-05    2023-09-12  200.00   \n6          855664   2023-09-05      2023-09-05    2023-09-12  200.00   \n...           ...          ...             ...           ...     ...   \n12527      941621   2024-03-05      2024-03-08    2024-03-15    2.40   \n12546      941675   2024-03-05      2024-03-05    2024-03-12    0.76   \n12547      941675   2024-03-05      2024-03-05    2024-03-12    0.76   \n12552      941690   2024-03-05      2024-04-05    2024-04-12   10.00   \n12553      941690   2024-03-05      2024-04-05    2024-04-12   10.00   \n\n      weight_unit   amount container_type shipping_type_x hs_code  ...  \\\n2      Metric Ton      1.0   20' Standard             FCL     NaN  ...   \n3      Metric Ton      1.0   20' Standard             FCL     NaN  ...   \n4      Metric Ton      1.0   20' Standard             FCL     NaN  ...   \n5      Metric Ton      1.0   20' Standard             FCL     NaN  ...   \n6      Metric Ton      1.0   20' Standard             FCL     NaN  ...   \n...           ...      ...            ...             ...     ...  ...   \n12527  Metric Ton      1.0   20' Standard             FCL  851631  ...   \n12546  Metric Ton  25845.0   40' Standard             FCL   50-63  ...   \n12547  Metric Ton  25845.0   40' Standard             FCL   50-63  ...   \n12552  Metric Ton      1.0   40' Standard             FCL   84-85  ...   \n12553  Metric Ton      1.0   40' Standard             FCL   84-85  ...   \n\n         valid_to  carrier  estimated_days  origin_name  origin_code5  \\\n2      2024-04-14      NaN            42.0     Shanghai         CNSHA   \n3      2024-04-15      MSC            31.0     Shanghai         CNSHA   \n4      2024-04-14     OOCL            42.0     Shanghai         CNSHA   \n5      2024-04-28      NaN            43.0     Shanghai         CNSHA   \n6      2024-04-14      NaN            42.0     Shanghai         CNSHA   \n...           ...      ...             ...          ...           ...   \n12527  2024-04-24      ONE            51.0      Yantian         CNYTN   \n12546  2024-04-15      NaN            38.0       Ningbo         CNNGB   \n12547  2024-04-22    COSCO            39.0       Ningbo         CNNGB   \n12552  2024-04-15      NaN            38.0       Ningbo         CNNGB   \n12553  2024-04-22    COSCO            39.0       Ningbo         CNNGB   \n\n      destination_name destination_code5 shipping_type_y load_amount price_usd  \n2              Caucedo             DOCAU             FCL         1.0    3467.0  \n3              Caucedo             DOCAU             FCL         1.0    3420.0  \n4              Caucedo             DOCAU             FCL         1.0    3288.0  \n5              Caucedo             DOCAU             FCL         1.0    3087.0  \n6              Caucedo             DOCAU             FCL         1.0    3087.0  \n...                ...               ...             ...         ...       ...  \n12527      Southampton             GBSOU             FCL         1.0    2043.0  \n12546        Cartagena             COCTG             FCL         1.0    3414.0  \n12547        Cartagena             COCTG             FCL         1.0    3400.0  \n12552        Cartagena             COCTG             FCL         1.0    3414.0  \n12553        Cartagena             COCTG             FCL         1.0    3400.0  \n\n[3161 rows x 35 columns]",
      "text/html": "<div>\n<style scoped>\n    .dataframe tbody tr th:only-of-type {\n        vertical-align: middle;\n    }\n\n    .dataframe tbody tr th {\n        vertical-align: top;\n    }\n\n    .dataframe thead th {\n        text-align: right;\n    }\n</style>\n<table border=\"1\" class=\"dataframe\">\n  <thead>\n    <tr style=\"text-align: right;\">\n      <th></th>\n      <th>request_id</th>\n      <th>request_date</th>\n      <th>valid_date_from</th>\n      <th>valid_date_to</th>\n      <th>weight</th>\n      <th>weight_unit</th>\n      <th>amount</th>\n      <th>container_type</th>\n      <th>shipping_type_x</th>\n      <th>hs_code</th>\n      <th>...</th>\n      <th>valid_to</th>\n      <th>carrier</th>\n      <th>estimated_days</th>\n      <th>origin_name</th>\n      <th>origin_code5</th>\n      <th>destination_name</th>\n      <th>destination_code5</th>\n      <th>shipping_type_y</th>\n      <th>load_amount</th>\n      <th>price_usd</th>\n    </tr>\n  </thead>\n  <tbody>\n    <tr>\n      <th>2</th>\n      <td>855664</td>\n      <td>2023-09-05</td>\n      <td>2023-09-05</td>\n      <td>2023-09-12</td>\n      <td>200.00</td>\n      <td>Metric Ton</td>\n      <td>1.0</td>\n      <td>20' Standard</td>\n      <td>FCL</td>\n      <td>NaN</td>\n      <td>...</td>\n      <td>2024-04-14</td>\n      <td>NaN</td>\n      <td>42.0</td>\n      <td>Shanghai</td>\n      <td>CNSHA</td>\n      <td>Caucedo</td>\n      <td>DOCAU</td>\n      <td>FCL</td>\n      <td>1.0</td>\n      <td>3467.0</td>\n    </tr>\n    <tr>\n      <th>3</th>\n      <td>855664</td>\n      <td>2023-09-05</td>\n      <td>2023-09-05</td>\n      <td>2023-09-12</td>\n      <td>200.00</td>\n      <td>Metric Ton</td>\n      <td>1.0</td>\n      <td>20' Standard</td>\n      <td>FCL</td>\n      <td>NaN</td>\n      <td>...</td>\n      <td>2024-04-15</td>\n      <td>MSC</td>\n      <td>31.0</td>\n      <td>Shanghai</td>\n      <td>CNSHA</td>\n      <td>Caucedo</td>\n      <td>DOCAU</td>\n      <td>FCL</td>\n      <td>1.0</td>\n      <td>3420.0</td>\n    </tr>\n    <tr>\n      <th>4</th>\n      <td>855664</td>\n      <td>2023-09-05</td>\n      <td>2023-09-05</td>\n      <td>2023-09-12</td>\n      <td>200.00</td>\n      <td>Metric Ton</td>\n      <td>1.0</td>\n      <td>20' Standard</td>\n      <td>FCL</td>\n      <td>NaN</td>\n      <td>...</td>\n      <td>2024-04-14</td>\n      <td>OOCL</td>\n      <td>42.0</td>\n      <td>Shanghai</td>\n      <td>CNSHA</td>\n      <td>Caucedo</td>\n      <td>DOCAU</td>\n      <td>FCL</td>\n      <td>1.0</td>\n      <td>3288.0</td>\n    </tr>\n    <tr>\n      <th>5</th>\n      <td>855664</td>\n      <td>2023-09-05</td>\n      <td>2023-09-05</td>\n      <td>2023-09-12</td>\n      <td>200.00</td>\n      <td>Metric Ton</td>\n      <td>1.0</td>\n      <td>20' Standard</td>\n      <td>FCL</td>\n      <td>NaN</td>\n      <td>...</td>\n      <td>2024-04-28</td>\n      <td>NaN</td>\n      <td>43.0</td>\n      <td>Shanghai</td>\n      <td>CNSHA</td>\n      <td>Caucedo</td>\n      <td>DOCAU</td>\n      <td>FCL</td>\n      <td>1.0</td>\n      <td>3087.0</td>\n    </tr>\n    <tr>\n      <th>6</th>\n      <td>855664</td>\n      <td>2023-09-05</td>\n      <td>2023-09-05</td>\n      <td>2023-09-12</td>\n      <td>200.00</td>\n      <td>Metric Ton</td>\n      <td>1.0</td>\n      <td>20' Standard</td>\n      <td>FCL</td>\n      <td>NaN</td>\n      <td>...</td>\n      <td>2024-04-14</td>\n      <td>NaN</td>\n      <td>42.0</td>\n      <td>Shanghai</td>\n      <td>CNSHA</td>\n      <td>Caucedo</td>\n      <td>DOCAU</td>\n      <td>FCL</td>\n      <td>1.0</td>\n      <td>3087.0</td>\n    </tr>\n    <tr>\n      <th>...</th>\n      <td>...</td>\n      <td>...</td>\n      <td>...</td>\n      <td>...</td>\n      <td>...</td>\n      <td>...</td>\n      <td>...</td>\n      <td>...</td>\n      <td>...</td>\n      <td>...</td>\n      <td>...</td>\n      <td>...</td>\n      <td>...</td>\n      <td>...</td>\n      <td>...</td>\n      <td>...</td>\n      <td>...</td>\n      <td>...</td>\n      <td>...</td>\n      <td>...</td>\n      <td>...</td>\n    </tr>\n    <tr>\n      <th>12527</th>\n      <td>941621</td>\n      <td>2024-03-05</td>\n      <td>2024-03-08</td>\n      <td>2024-03-15</td>\n      <td>2.40</td>\n      <td>Metric Ton</td>\n      <td>1.0</td>\n      <td>20' Standard</td>\n      <td>FCL</td>\n      <td>851631</td>\n      <td>...</td>\n      <td>2024-04-24</td>\n      <td>ONE</td>\n      <td>51.0</td>\n      <td>Yantian</td>\n      <td>CNYTN</td>\n      <td>Southampton</td>\n      <td>GBSOU</td>\n      <td>FCL</td>\n      <td>1.0</td>\n      <td>2043.0</td>\n    </tr>\n    <tr>\n      <th>12546</th>\n      <td>941675</td>\n      <td>2024-03-05</td>\n      <td>2024-03-05</td>\n      <td>2024-03-12</td>\n      <td>0.76</td>\n      <td>Metric Ton</td>\n      <td>25845.0</td>\n      <td>40' Standard</td>\n      <td>FCL</td>\n      <td>50-63</td>\n      <td>...</td>\n      <td>2024-04-15</td>\n      <td>NaN</td>\n      <td>38.0</td>\n      <td>Ningbo</td>\n      <td>CNNGB</td>\n      <td>Cartagena</td>\n      <td>COCTG</td>\n      <td>FCL</td>\n      <td>1.0</td>\n      <td>3414.0</td>\n    </tr>\n    <tr>\n      <th>12547</th>\n      <td>941675</td>\n      <td>2024-03-05</td>\n      <td>2024-03-05</td>\n      <td>2024-03-12</td>\n      <td>0.76</td>\n      <td>Metric Ton</td>\n      <td>25845.0</td>\n      <td>40' Standard</td>\n      <td>FCL</td>\n      <td>50-63</td>\n      <td>...</td>\n      <td>2024-04-22</td>\n      <td>COSCO</td>\n      <td>39.0</td>\n      <td>Ningbo</td>\n      <td>CNNGB</td>\n      <td>Cartagena</td>\n      <td>COCTG</td>\n      <td>FCL</td>\n      <td>1.0</td>\n      <td>3400.0</td>\n    </tr>\n    <tr>\n      <th>12552</th>\n      <td>941690</td>\n      <td>2024-03-05</td>\n      <td>2024-04-05</td>\n      <td>2024-04-12</td>\n      <td>10.00</td>\n      <td>Metric Ton</td>\n      <td>1.0</td>\n      <td>40' Standard</td>\n      <td>FCL</td>\n      <td>84-85</td>\n      <td>...</td>\n      <td>2024-04-15</td>\n      <td>NaN</td>\n      <td>38.0</td>\n      <td>Ningbo</td>\n      <td>CNNGB</td>\n      <td>Cartagena</td>\n      <td>COCTG</td>\n      <td>FCL</td>\n      <td>1.0</td>\n      <td>3414.0</td>\n    </tr>\n    <tr>\n      <th>12553</th>\n      <td>941690</td>\n      <td>2024-03-05</td>\n      <td>2024-04-05</td>\n      <td>2024-04-12</td>\n      <td>10.00</td>\n      <td>Metric Ton</td>\n      <td>1.0</td>\n      <td>40' Standard</td>\n      <td>FCL</td>\n      <td>84-85</td>\n      <td>...</td>\n      <td>2024-04-22</td>\n      <td>COSCO</td>\n      <td>39.0</td>\n      <td>Ningbo</td>\n      <td>CNNGB</td>\n      <td>Cartagena</td>\n      <td>COCTG</td>\n      <td>FCL</td>\n      <td>1.0</td>\n      <td>3400.0</td>\n    </tr>\n  </tbody>\n</table>\n<p>3161 rows × 35 columns</p>\n</div>"
     },
     "execution_count": 14,
     "metadata": {},
     "output_type": "execute_result"
    }
   ],
   "source": [
    "merged_leads_land_not_null"
   ],
   "metadata": {
    "collapsed": false
   }
  },
  {
   "cell_type": "code",
   "execution_count": 17,
   "outputs": [],
   "source": [
    "#Проверка форматов данных"
   ],
   "metadata": {
    "collapsed": false
   }
  },
  {
   "cell_type": "code",
   "execution_count": 18,
   "outputs": [
    {
     "name": "stdout",
     "output_type": "stream",
     "text": [
      "<class 'pandas.core.frame.DataFrame'>\n",
      "Index: 3161 entries, 2 to 12553\n",
      "Data columns (total 35 columns):\n",
      " #   Column             Non-Null Count  Dtype  \n",
      "---  ------             --------------  -----  \n",
      " 0   request_id         3161 non-null   int64  \n",
      " 1   request_date       3161 non-null   object \n",
      " 2   valid_date_from    3161 non-null   object \n",
      " 3   valid_date_to      3161 non-null   object \n",
      " 4   weight             3161 non-null   float64\n",
      " 5   weight_unit        3161 non-null   object \n",
      " 6   amount             3161 non-null   float64\n",
      " 7   container_type     3161 non-null   object \n",
      " 8   shipping_type_x    3161 non-null   object \n",
      " 9   hs_code            2459 non-null   object \n",
      " 10  freight_all_kinds  3161 non-null   bool   \n",
      " 11  personal_cargo     3161 non-null   bool   \n",
      " 12  perishable_cargo   3161 non-null   bool   \n",
      " 13  liquid_cargo       3161 non-null   bool   \n",
      " 14  imo_code           6 non-null      float64\n",
      " 15  city_from_country  1375 non-null   object \n",
      " 16  city_from          1375 non-null   object \n",
      " 17  port_from_country  3161 non-null   object \n",
      " 18  port_from          3161 non-null   object \n",
      " 19  port_to_country    3161 non-null   object \n",
      " 20  port_to            3161 non-null   object \n",
      " 21  city_to_country    1329 non-null   object \n",
      " 22  city_to            1329 non-null   object \n",
      " 23  create_date        3161 non-null   object \n",
      " 24  valid_from         3161 non-null   object \n",
      " 25  valid_to           3161 non-null   object \n",
      " 26  carrier            2055 non-null   object \n",
      " 27  estimated_days     2454 non-null   float64\n",
      " 28  origin_name        3161 non-null   object \n",
      " 29  origin_code5       3161 non-null   object \n",
      " 30  destination_name   3161 non-null   object \n",
      " 31  destination_code5  3161 non-null   object \n",
      " 32  shipping_type_y    3161 non-null   object \n",
      " 33  load_amount        3161 non-null   float64\n",
      " 34  price_usd          3161 non-null   float64\n",
      "dtypes: bool(4), float64(6), int64(1), object(24)\n",
      "memory usage: 802.6+ KB\n"
     ]
    }
   ],
   "source": [
    "merged_leads_land_not_null.info()"
   ],
   "metadata": {
    "collapsed": false
   }
  },
  {
   "cell_type": "code",
   "execution_count": null,
   "outputs": [],
   "source": [],
   "metadata": {
    "collapsed": false
   }
  },
  {
   "cell_type": "markdown",
   "source": [],
   "metadata": {
    "collapsed": false
   }
  }
 ],
 "metadata": {
  "kernelspec": {
   "display_name": "Python 3",
   "language": "python",
   "name": "python3"
  },
  "language_info": {
   "codemirror_mode": {
    "name": "ipython",
    "version": 2
   },
   "file_extension": ".py",
   "mimetype": "text/x-python",
   "name": "python",
   "nbconvert_exporter": "python",
   "pygments_lexer": "ipython2",
   "version": "2.7.6"
  }
 },
 "nbformat": 4,
 "nbformat_minor": 0
}
